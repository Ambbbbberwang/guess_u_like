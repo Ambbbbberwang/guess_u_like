{
 "cells": [
  {
   "cell_type": "markdown",
   "metadata": {},
   "source": [
    "This notebook is just for scratchwork to test out python syntax.\n"
   ]
  },
  {
   "cell_type": "code",
   "execution_count": 1,
   "metadata": {},
   "outputs": [
    {
     "data": {
      "text/html": [
       "<div>\n",
       "<style scoped>\n",
       "    .dataframe tbody tr th:only-of-type {\n",
       "        vertical-align: middle;\n",
       "    }\n",
       "\n",
       "    .dataframe tbody tr th {\n",
       "        vertical-align: top;\n",
       "    }\n",
       "\n",
       "    .dataframe thead th {\n",
       "        text-align: right;\n",
       "    }\n",
       "</style>\n",
       "<table border=\"1\" class=\"dataframe\">\n",
       "  <thead>\n",
       "    <tr style=\"text-align: right;\">\n",
       "      <th></th>\n",
       "      <th>track_id</th>\n",
       "      <th>name</th>\n",
       "      <th>genre</th>\n",
       "      <th>year</th>\n",
       "      <th>duration</th>\n",
       "      <th>artist_id</th>\n",
       "    </tr>\n",
       "  </thead>\n",
       "  <tbody>\n",
       "    <tr>\n",
       "      <th>0</th>\n",
       "      <td>TRAAAAK128F9318786</td>\n",
       "      <td>Scream</td>\n",
       "      <td>Adelitas Way</td>\n",
       "      <td>2009</td>\n",
       "      <td>213.94240</td>\n",
       "      <td>ARJNIUY12298900C91</td>\n",
       "    </tr>\n",
       "    <tr>\n",
       "      <th>1</th>\n",
       "      <td>TRAAAAV128F421A322</td>\n",
       "      <td>A Poor Recipe For Civic Cohesion</td>\n",
       "      <td>Cognicide</td>\n",
       "      <td>2005</td>\n",
       "      <td>118.07302</td>\n",
       "      <td>AR73AIO1187B9AD57B</td>\n",
       "    </tr>\n",
       "    <tr>\n",
       "      <th>2</th>\n",
       "      <td>TRAAACN128F9355673</td>\n",
       "      <td>Hit Da Scene</td>\n",
       "      <td>A Bad Azz Mix Tape IV</td>\n",
       "      <td>0</td>\n",
       "      <td>252.94322</td>\n",
       "      <td>AR9Q9YC1187FB5609B</td>\n",
       "    </tr>\n",
       "    <tr>\n",
       "      <th>3</th>\n",
       "      <td>TRAAADZ128F9348C2E</td>\n",
       "      <td>Amor De Cabaret</td>\n",
       "      <td>Las Numero 1 De La Sonora Santanera</td>\n",
       "      <td>0</td>\n",
       "      <td>177.47546</td>\n",
       "      <td>ARKRRTF1187B9984DA</td>\n",
       "    </tr>\n",
       "    <tr>\n",
       "      <th>4</th>\n",
       "      <td>TRAAAEA128F935A30D</td>\n",
       "      <td>I'll Slap Your Face (Entertainment USA Theme)</td>\n",
       "      <td>Vile Pervert - The Music</td>\n",
       "      <td>2001</td>\n",
       "      <td>129.85424</td>\n",
       "      <td>ARSVTNL1187B992A91</td>\n",
       "    </tr>\n",
       "  </tbody>\n",
       "</table>\n",
       "</div>"
      ],
      "text/plain": [
       "             track_id                                           name  \\\n",
       "0  TRAAAAK128F9318786                                         Scream   \n",
       "1  TRAAAAV128F421A322               A Poor Recipe For Civic Cohesion   \n",
       "2  TRAAACN128F9355673                                   Hit Da Scene   \n",
       "3  TRAAADZ128F9348C2E                                Amor De Cabaret   \n",
       "4  TRAAAEA128F935A30D  I'll Slap Your Face (Entertainment USA Theme)   \n",
       "\n",
       "                                 genre  year   duration           artist_id  \n",
       "0                         Adelitas Way  2009  213.94240  ARJNIUY12298900C91  \n",
       "1                            Cognicide  2005  118.07302  AR73AIO1187B9AD57B  \n",
       "2                A Bad Azz Mix Tape IV     0  252.94322  AR9Q9YC1187FB5609B  \n",
       "3  Las Numero 1 De La Sonora Santanera     0  177.47546  ARKRRTF1187B9984DA  \n",
       "4             Vile Pervert - The Music  2001  129.85424  ARSVTNL1187B992A91  "
      ]
     },
     "execution_count": 1,
     "metadata": {},
     "output_type": "execute_result"
    }
   ],
   "source": [
    "import pandas as pd\n",
    "\n",
    "path='/Users/lisacombs/Documents/BIGDATA/lab-3-spark-lcombs/tracks.csv'\n",
    "\n",
    "data = pd.read_csv(path, header=None, names = ['track_id', 'name', 'genre', 'year', 'duration', 'artist_id'])\n",
    "data.head()"
   ]
  },
  {
   "cell_type": "code",
   "execution_count": 2,
   "metadata": {},
   "outputs": [
    {
     "data": {
      "text/plain": [
       "33922"
      ]
     },
     "execution_count": 2,
     "metadata": {},
     "output_type": "execute_result"
    }
   ],
   "source": [
    "users = pd.Series(data['artist_id'].unique()).tolist()\n",
    "len(users)"
   ]
  },
  {
   "cell_type": "code",
   "execution_count": 3,
   "metadata": {},
   "outputs": [],
   "source": [
    "from random import sample \n",
    "\n",
    "temp=sample(users, int(len(users)*0.6) )\n",
    "train=data[data['artist_id'].isin(temp)]# all interactions\n",
    "test_val=data[~data['artist_id'].isin(temp)]"
   ]
  },
  {
   "cell_type": "code",
   "execution_count": 4,
   "metadata": {},
   "outputs": [],
   "source": [
    "users = pd.Series(test_val['artist_id'].unique()).tolist()\n",
    "temp=sample(users, int(len(users)*0.5) )\n",
    "test=test_val[test_val['artist_id'].isin(temp)]# all interactions\n",
    "val=test_val[~test_val['artist_id'].isin(temp)]"
   ]
  },
  {
   "cell_type": "code",
   "execution_count": 5,
   "metadata": {},
   "outputs": [
    {
     "data": {
      "text/plain": [
       "13569"
      ]
     },
     "execution_count": 5,
     "metadata": {},
     "output_type": "execute_result"
    }
   ],
   "source": [
    "len(users)"
   ]
  },
  {
   "cell_type": "code",
   "execution_count": 6,
   "metadata": {},
   "outputs": [
    {
     "data": {
      "text/plain": [
       "6784"
      ]
     },
     "execution_count": 6,
     "metadata": {},
     "output_type": "execute_result"
    }
   ],
   "source": [
    "len(temp)"
   ]
  },
  {
   "cell_type": "code",
   "execution_count": 7,
   "metadata": {},
   "outputs": [
    {
     "data": {
      "text/plain": [
       "6784"
      ]
     },
     "execution_count": 7,
     "metadata": {},
     "output_type": "execute_result"
    }
   ],
   "source": [
    "len(pd.Series(test['artist_id'].unique()).tolist())"
   ]
  },
  {
   "cell_type": "code",
   "execution_count": 8,
   "metadata": {},
   "outputs": [
    {
     "data": {
      "text/plain": [
       "6785"
      ]
     },
     "execution_count": 8,
     "metadata": {},
     "output_type": "execute_result"
    }
   ],
   "source": [
    "len(pd.Series(val['artist_id'].unique()).tolist())"
   ]
  },
  {
   "cell_type": "code",
   "execution_count": 9,
   "metadata": {},
   "outputs": [
    {
     "data": {
      "text/plain": [
       "5768"
      ]
     },
     "execution_count": 9,
     "metadata": {},
     "output_type": "execute_result"
    }
   ],
   "source": [
    "#https://stackoverflow.com/questions/22472213/python-random-selection-per-group\n",
    "# \n",
    "temp=test.groupby('artist_id').apply(lambda x: x.sample(frac=0.5)).reset_index(drop=True)\n",
    "len(temp['artist_id'].unique())"
   ]
  },
  {
   "cell_type": "code",
   "execution_count": 10,
   "metadata": {},
   "outputs": [
    {
     "data": {
      "text/plain": [
       "6784"
      ]
     },
     "execution_count": 10,
     "metadata": {},
     "output_type": "execute_result"
    }
   ],
   "source": [
    "len(test['artist_id'].unique())"
   ]
  },
  {
   "cell_type": "code",
   "execution_count": 11,
   "metadata": {},
   "outputs": [
    {
     "data": {
      "text/plain": [
       "0"
      ]
     },
     "execution_count": 11,
     "metadata": {},
     "output_type": "execute_result"
    }
   ],
   "source": [
    "len(test[test['artist_id'] == 'AR5DHN51187B9B9363'])"
   ]
  },
  {
   "cell_type": "code",
   "execution_count": 12,
   "metadata": {},
   "outputs": [
    {
     "data": {
      "text/plain": [
       "0"
      ]
     },
     "execution_count": 12,
     "metadata": {},
     "output_type": "execute_result"
    }
   ],
   "source": [
    "len(temp[temp['artist_id'] == 'AR5DHN51187B9B9363'])"
   ]
  },
  {
   "cell_type": "code",
   "execution_count": 13,
   "metadata": {},
   "outputs": [
    {
     "data": {
      "text/html": [
       "<div>\n",
       "<style scoped>\n",
       "    .dataframe tbody tr th:only-of-type {\n",
       "        vertical-align: middle;\n",
       "    }\n",
       "\n",
       "    .dataframe tbody tr th {\n",
       "        vertical-align: top;\n",
       "    }\n",
       "\n",
       "    .dataframe thead th {\n",
       "        text-align: right;\n",
       "    }\n",
       "</style>\n",
       "<table border=\"1\" class=\"dataframe\">\n",
       "  <thead>\n",
       "    <tr style=\"text-align: right;\">\n",
       "      <th></th>\n",
       "      <th>track_id</th>\n",
       "    </tr>\n",
       "    <tr>\n",
       "      <th>artist_id</th>\n",
       "      <th></th>\n",
       "    </tr>\n",
       "  </thead>\n",
       "  <tbody>\n",
       "    <tr>\n",
       "      <th>AR5DF6K1187B98F545</th>\n",
       "      <td>12</td>\n",
       "    </tr>\n",
       "    <tr>\n",
       "      <th>AR5DLGF1187B9AF012</th>\n",
       "      <td>2</td>\n",
       "    </tr>\n",
       "    <tr>\n",
       "      <th>AR5DU2E1187B9A49C8</th>\n",
       "      <td>2</td>\n",
       "    </tr>\n",
       "    <tr>\n",
       "      <th>AR5E2M81187B9A9042</th>\n",
       "      <td>4</td>\n",
       "    </tr>\n",
       "    <tr>\n",
       "      <th>AR5E44Z1187B9A1D74</th>\n",
       "      <td>13</td>\n",
       "    </tr>\n",
       "    <tr>\n",
       "      <th>...</th>\n",
       "      <td>...</td>\n",
       "    </tr>\n",
       "    <tr>\n",
       "      <th>ARZZMWO1187B9AFB36</th>\n",
       "      <td>16</td>\n",
       "    </tr>\n",
       "    <tr>\n",
       "      <th>ARZZPGX11E2835E8FA</th>\n",
       "      <td>1</td>\n",
       "    </tr>\n",
       "    <tr>\n",
       "      <th>ARZZQZQ12509411C96</th>\n",
       "      <td>2</td>\n",
       "    </tr>\n",
       "    <tr>\n",
       "      <th>ARZZRK91187B9A5CA5</th>\n",
       "      <td>14</td>\n",
       "    </tr>\n",
       "    <tr>\n",
       "      <th>ARZZVPC125FEF3238D</th>\n",
       "      <td>3</td>\n",
       "    </tr>\n",
       "  </tbody>\n",
       "</table>\n",
       "<p>5768 rows × 1 columns</p>\n",
       "</div>"
      ],
      "text/plain": [
       "                    track_id\n",
       "artist_id                   \n",
       "AR5DF6K1187B98F545        12\n",
       "AR5DLGF1187B9AF012         2\n",
       "AR5DU2E1187B9A49C8         2\n",
       "AR5E2M81187B9A9042         4\n",
       "AR5E44Z1187B9A1D74        13\n",
       "...                      ...\n",
       "ARZZMWO1187B9AFB36        16\n",
       "ARZZPGX11E2835E8FA         1\n",
       "ARZZQZQ12509411C96         2\n",
       "ARZZRK91187B9A5CA5        14\n",
       "ARZZVPC125FEF3238D         3\n",
       "\n",
       "[5768 rows x 1 columns]"
      ]
     },
     "execution_count": 13,
     "metadata": {},
     "output_type": "execute_result"
    }
   ],
   "source": [
    "temp[['track_id','artist_id']].groupby('artist_id').count()"
   ]
  },
  {
   "cell_type": "code",
   "execution_count": 14,
   "metadata": {},
   "outputs": [
    {
     "data": {
      "text/html": [
       "<div>\n",
       "<style scoped>\n",
       "    .dataframe tbody tr th:only-of-type {\n",
       "        vertical-align: middle;\n",
       "    }\n",
       "\n",
       "    .dataframe tbody tr th {\n",
       "        vertical-align: top;\n",
       "    }\n",
       "\n",
       "    .dataframe thead th {\n",
       "        text-align: right;\n",
       "    }\n",
       "</style>\n",
       "<table border=\"1\" class=\"dataframe\">\n",
       "  <thead>\n",
       "    <tr style=\"text-align: right;\">\n",
       "      <th></th>\n",
       "      <th>track_id</th>\n",
       "    </tr>\n",
       "    <tr>\n",
       "      <th>artist_id</th>\n",
       "      <th></th>\n",
       "    </tr>\n",
       "  </thead>\n",
       "  <tbody>\n",
       "    <tr>\n",
       "      <th>AR5DF6K1187B98F545</th>\n",
       "      <td>24</td>\n",
       "    </tr>\n",
       "    <tr>\n",
       "      <th>AR5DLGF1187B9AF012</th>\n",
       "      <td>5</td>\n",
       "    </tr>\n",
       "    <tr>\n",
       "      <th>AR5DU2E1187B9A49C8</th>\n",
       "      <td>5</td>\n",
       "    </tr>\n",
       "    <tr>\n",
       "      <th>AR5E2M81187B9A9042</th>\n",
       "      <td>7</td>\n",
       "    </tr>\n",
       "    <tr>\n",
       "      <th>AR5E44Z1187B9A1D74</th>\n",
       "      <td>26</td>\n",
       "    </tr>\n",
       "    <tr>\n",
       "      <th>...</th>\n",
       "      <td>...</td>\n",
       "    </tr>\n",
       "    <tr>\n",
       "      <th>ARZZPGX11E2835E8FA</th>\n",
       "      <td>2</td>\n",
       "    </tr>\n",
       "    <tr>\n",
       "      <th>ARZZQZQ12509411C96</th>\n",
       "      <td>4</td>\n",
       "    </tr>\n",
       "    <tr>\n",
       "      <th>ARZZRK91187B9A5CA5</th>\n",
       "      <td>28</td>\n",
       "    </tr>\n",
       "    <tr>\n",
       "      <th>ARZZVPC125FEF3238D</th>\n",
       "      <td>6</td>\n",
       "    </tr>\n",
       "    <tr>\n",
       "      <th>ARZZWAU11F4C8459EA</th>\n",
       "      <td>1</td>\n",
       "    </tr>\n",
       "  </tbody>\n",
       "</table>\n",
       "<p>6784 rows × 1 columns</p>\n",
       "</div>"
      ],
      "text/plain": [
       "                    track_id\n",
       "artist_id                   \n",
       "AR5DF6K1187B98F545        24\n",
       "AR5DLGF1187B9AF012         5\n",
       "AR5DU2E1187B9A49C8         5\n",
       "AR5E2M81187B9A9042         7\n",
       "AR5E44Z1187B9A1D74        26\n",
       "...                      ...\n",
       "ARZZPGX11E2835E8FA         2\n",
       "ARZZQZQ12509411C96         4\n",
       "ARZZRK91187B9A5CA5        28\n",
       "ARZZVPC125FEF3238D         6\n",
       "ARZZWAU11F4C8459EA         1\n",
       "\n",
       "[6784 rows x 1 columns]"
      ]
     },
     "execution_count": 14,
     "metadata": {},
     "output_type": "execute_result"
    }
   ],
   "source": [
    "test[['track_id','artist_id']].groupby('artist_id').count()"
   ]
  },
  {
   "cell_type": "code",
   "execution_count": 24,
   "metadata": {},
   "outputs": [
    {
     "data": {
      "text/plain": [
       "0"
      ]
     },
     "execution_count": 24,
     "metadata": {},
     "output_type": "execute_result"
    }
   ],
   "source": [
    "len(temp[temp['artist_id'] == 'ARZZWAU11F4C8459EA'])"
   ]
  },
  {
   "cell_type": "code",
   "execution_count": 25,
   "metadata": {},
   "outputs": [
    {
     "data": {
      "text/plain": [
       "1"
      ]
     },
     "execution_count": 25,
     "metadata": {},
     "output_type": "execute_result"
    }
   ],
   "source": [
    "len(test[test['artist_id'] == 'ARZZWAU11F4C8459EA'])"
   ]
  },
  {
   "cell_type": "code",
   "execution_count": 26,
   "metadata": {},
   "outputs": [
    {
     "data": {
      "text/plain": [
       "1016"
      ]
     },
     "execution_count": 26,
     "metadata": {},
     "output_type": "execute_result"
    }
   ],
   "source": [
    "# how many artists have one track?\n",
    "tracks_per_artist = test[['track_id','artist_id']].groupby('artist_id').count()\n",
    "len(tracks_per_artist[tracks_per_artist['track_id'] <= 1])"
   ]
  },
  {
   "cell_type": "code",
   "execution_count": 28,
   "metadata": {},
   "outputs": [
    {
     "data": {
      "text/plain": [
       "5768"
      ]
     },
     "execution_count": 28,
     "metadata": {},
     "output_type": "execute_result"
    }
   ],
   "source": [
    "6784-1016 # OK - do we want to subset before instead?"
   ]
  },
  {
   "cell_type": "code",
   "execution_count": 19,
   "metadata": {},
   "outputs": [
    {
     "data": {
      "text/html": [
       "<div>\n",
       "<style scoped>\n",
       "    .dataframe tbody tr th:only-of-type {\n",
       "        vertical-align: middle;\n",
       "    }\n",
       "\n",
       "    .dataframe tbody tr th {\n",
       "        vertical-align: top;\n",
       "    }\n",
       "\n",
       "    .dataframe thead th {\n",
       "        text-align: right;\n",
       "    }\n",
       "</style>\n",
       "<table border=\"1\" class=\"dataframe\">\n",
       "  <thead>\n",
       "    <tr style=\"text-align: right;\">\n",
       "      <th></th>\n",
       "      <th>track_id</th>\n",
       "      <th>name</th>\n",
       "      <th>genre</th>\n",
       "      <th>year</th>\n",
       "      <th>duration</th>\n",
       "      <th>artist_id</th>\n",
       "    </tr>\n",
       "  </thead>\n",
       "  <tbody>\n",
       "    <tr>\n",
       "      <th>0</th>\n",
       "      <td>TRCMRSB128F93445AF</td>\n",
       "      <td>Ristinolla</td>\n",
       "      <td>Romeo ja Julia</td>\n",
       "      <td>1995</td>\n",
       "      <td>259.29098</td>\n",
       "      <td>AR5DF6K1187B98F545</td>\n",
       "    </tr>\n",
       "    <tr>\n",
       "      <th>1</th>\n",
       "      <td>TRWZNWR128F93445AD</td>\n",
       "      <td>Alla Koivupuun</td>\n",
       "      <td>Romeo ja Julia</td>\n",
       "      <td>1995</td>\n",
       "      <td>208.92689</td>\n",
       "      <td>AR5DF6K1187B98F545</td>\n",
       "    </tr>\n",
       "    <tr>\n",
       "      <th>2</th>\n",
       "      <td>TRTIZMG128F9344579</td>\n",
       "      <td>Say I Do</td>\n",
       "      <td>The 4th Dimension</td>\n",
       "      <td>2000</td>\n",
       "      <td>208.66567</td>\n",
       "      <td>AR5DF6K1187B98F545</td>\n",
       "    </tr>\n",
       "    <tr>\n",
       "      <th>3</th>\n",
       "      <td>TRQCBMF128F934467C</td>\n",
       "      <td>Ikävöin</td>\n",
       "      <td>3. aste</td>\n",
       "      <td>1997</td>\n",
       "      <td>275.95710</td>\n",
       "      <td>AR5DF6K1187B98F545</td>\n",
       "    </tr>\n",
       "    <tr>\n",
       "      <th>4</th>\n",
       "      <td>TRCBGYM128F93446CF</td>\n",
       "      <td>Mikä - Movetron</td>\n",
       "      <td>Soittorasia</td>\n",
       "      <td>1996</td>\n",
       "      <td>226.76853</td>\n",
       "      <td>AR5DF6K1187B98F545</td>\n",
       "    </tr>\n",
       "    <tr>\n",
       "      <th>...</th>\n",
       "      <td>...</td>\n",
       "      <td>...</td>\n",
       "      <td>...</td>\n",
       "      <td>...</td>\n",
       "      <td>...</td>\n",
       "      <td>...</td>\n",
       "    </tr>\n",
       "    <tr>\n",
       "      <th>29658</th>\n",
       "      <td>TRIJUQB128F92FBF41</td>\n",
       "      <td>Rain From The Skies</td>\n",
       "      <td>Step It Up Youthman</td>\n",
       "      <td>1969</td>\n",
       "      <td>170.10893</td>\n",
       "      <td>ARZZRK91187B9A5CA5</td>\n",
       "    </tr>\n",
       "    <tr>\n",
       "      <th>29659</th>\n",
       "      <td>TRRTJPN128F92F69D1</td>\n",
       "      <td>I'm Still Waiting</td>\n",
       "      <td>Reggae Chartbusters Vol. 6</td>\n",
       "      <td>1976</td>\n",
       "      <td>314.06975</td>\n",
       "      <td>ARZZRK91187B9A5CA5</td>\n",
       "    </tr>\n",
       "    <tr>\n",
       "      <th>29660</th>\n",
       "      <td>TRNZLMJ128F93108DC</td>\n",
       "      <td>Piume di cristallo</td>\n",
       "      <td>Il disordine delle cose</td>\n",
       "      <td>2009</td>\n",
       "      <td>236.38159</td>\n",
       "      <td>ARZZVPC125FEF3238D</td>\n",
       "    </tr>\n",
       "    <tr>\n",
       "      <th>29661</th>\n",
       "      <td>TRDROWL128F93108D5</td>\n",
       "      <td>Muscoli di carta</td>\n",
       "      <td>Il disordine delle cose</td>\n",
       "      <td>2009</td>\n",
       "      <td>186.51383</td>\n",
       "      <td>ARZZVPC125FEF3238D</td>\n",
       "    </tr>\n",
       "    <tr>\n",
       "      <th>29662</th>\n",
       "      <td>TRQRUZM128F93108D9</td>\n",
       "      <td>L'astronauta</td>\n",
       "      <td>Il disordine delle cose</td>\n",
       "      <td>2009</td>\n",
       "      <td>238.54975</td>\n",
       "      <td>ARZZVPC125FEF3238D</td>\n",
       "    </tr>\n",
       "  </tbody>\n",
       "</table>\n",
       "<p>29663 rows × 6 columns</p>\n",
       "</div>"
      ],
      "text/plain": [
       "                 track_id                 name                       genre  \\\n",
       "0      TRCMRSB128F93445AF           Ristinolla              Romeo ja Julia   \n",
       "1      TRWZNWR128F93445AD       Alla Koivupuun              Romeo ja Julia   \n",
       "2      TRTIZMG128F9344579             Say I Do           The 4th Dimension   \n",
       "3      TRQCBMF128F934467C              Ikävöin                     3. aste   \n",
       "4      TRCBGYM128F93446CF      Mikä - Movetron                 Soittorasia   \n",
       "...                   ...                  ...                         ...   \n",
       "29658  TRIJUQB128F92FBF41  Rain From The Skies         Step It Up Youthman   \n",
       "29659  TRRTJPN128F92F69D1    I'm Still Waiting  Reggae Chartbusters Vol. 6   \n",
       "29660  TRNZLMJ128F93108DC   Piume di cristallo     Il disordine delle cose   \n",
       "29661  TRDROWL128F93108D5     Muscoli di carta     Il disordine delle cose   \n",
       "29662  TRQRUZM128F93108D9         L'astronauta     Il disordine delle cose   \n",
       "\n",
       "       year   duration           artist_id  \n",
       "0      1995  259.29098  AR5DF6K1187B98F545  \n",
       "1      1995  208.92689  AR5DF6K1187B98F545  \n",
       "2      2000  208.66567  AR5DF6K1187B98F545  \n",
       "3      1997  275.95710  AR5DF6K1187B98F545  \n",
       "4      1996  226.76853  AR5DF6K1187B98F545  \n",
       "...     ...        ...                 ...  \n",
       "29658  1969  170.10893  ARZZRK91187B9A5CA5  \n",
       "29659  1976  314.06975  ARZZRK91187B9A5CA5  \n",
       "29660  2009  236.38159  ARZZVPC125FEF3238D  \n",
       "29661  2009  186.51383  ARZZVPC125FEF3238D  \n",
       "29662  2009  238.54975  ARZZVPC125FEF3238D  \n",
       "\n",
       "[29663 rows x 6 columns]"
      ]
     },
     "execution_count": 19,
     "metadata": {},
     "output_type": "execute_result"
    }
   ],
   "source": [
    "temp"
   ]
  },
  {
   "cell_type": "code",
   "execution_count": 29,
   "metadata": {},
   "outputs": [
    {
     "data": {
      "text/plain": [
       "['track_id', 'name', 'genre', 'year', 'duration', 'artist_id']"
      ]
     },
     "execution_count": 29,
     "metadata": {},
     "output_type": "execute_result"
    }
   ],
   "source": [
    "keys = list(temp.columns.values)\n",
    "keys"
   ]
  },
  {
   "cell_type": "code",
   "execution_count": 30,
   "metadata": {},
   "outputs": [
    {
     "data": {
      "text/html": [
       "<div>\n",
       "<style scoped>\n",
       "    .dataframe tbody tr th:only-of-type {\n",
       "        vertical-align: middle;\n",
       "    }\n",
       "\n",
       "    .dataframe tbody tr th {\n",
       "        vertical-align: top;\n",
       "    }\n",
       "\n",
       "    .dataframe thead th {\n",
       "        text-align: right;\n",
       "    }\n",
       "</style>\n",
       "<table border=\"1\" class=\"dataframe\">\n",
       "  <thead>\n",
       "    <tr style=\"text-align: right;\">\n",
       "      <th></th>\n",
       "      <th>track_id</th>\n",
       "      <th>name</th>\n",
       "      <th>genre</th>\n",
       "      <th>year</th>\n",
       "      <th>duration</th>\n",
       "      <th>artist_id</th>\n",
       "    </tr>\n",
       "  </thead>\n",
       "  <tbody>\n",
       "    <tr>\n",
       "      <th>17</th>\n",
       "      <td>TRAABHP128F427AEC8</td>\n",
       "      <td>Siempre Ana</td>\n",
       "      <td>Nómada</td>\n",
       "      <td>2002</td>\n",
       "      <td>234.63138</td>\n",
       "      <td>ARE6D0Y119B8667D9F</td>\n",
       "    </tr>\n",
       "    <tr>\n",
       "      <th>20</th>\n",
       "      <td>TRAABOW128F42418FB</td>\n",
       "      <td>Hoergeraete</td>\n",
       "      <td>Schimmern</td>\n",
       "      <td>2006</td>\n",
       "      <td>120.99873</td>\n",
       "      <td>ARCJXB41187FB442AD</td>\n",
       "    </tr>\n",
       "    <tr>\n",
       "      <th>70</th>\n",
       "      <td>TRAAERS128F14A5562</td>\n",
       "      <td>The Castle  (LP Version)</td>\n",
       "      <td>Da Capo</td>\n",
       "      <td>0</td>\n",
       "      <td>180.71465</td>\n",
       "      <td>AR9F8TH1187B9B5A83</td>\n",
       "    </tr>\n",
       "    <tr>\n",
       "      <th>86</th>\n",
       "      <td>TRAAFHL128F933386A</td>\n",
       "      <td>Las 2:00</td>\n",
       "      <td>Ansiedad</td>\n",
       "      <td>0</td>\n",
       "      <td>181.23710</td>\n",
       "      <td>ARTEOIV11C8A417A4E</td>\n",
       "    </tr>\n",
       "    <tr>\n",
       "      <th>88</th>\n",
       "      <td>TRAAFON128F42926FB</td>\n",
       "      <td>Rosemary Recalls</td>\n",
       "      <td>The Man from Snowy River</td>\n",
       "      <td>1985</td>\n",
       "      <td>84.03546</td>\n",
       "      <td>ARRC2JF1187B9B6A93</td>\n",
       "    </tr>\n",
       "    <tr>\n",
       "      <th>...</th>\n",
       "      <td>...</td>\n",
       "      <td>...</td>\n",
       "      <td>...</td>\n",
       "      <td>...</td>\n",
       "      <td>...</td>\n",
       "      <td>...</td>\n",
       "    </tr>\n",
       "    <tr>\n",
       "      <th>299951</th>\n",
       "      <td>TRZZWXF128F42920D8</td>\n",
       "      <td>I Missed Me</td>\n",
       "      <td>Greatest Hits</td>\n",
       "      <td>1966</td>\n",
       "      <td>152.76363</td>\n",
       "      <td>ARZVTZN1187FB579D4</td>\n",
       "    </tr>\n",
       "    <tr>\n",
       "      <th>299966</th>\n",
       "      <td>TRZZYGY128F931CC54</td>\n",
       "      <td>Sans issue</td>\n",
       "      <td>Rouge rêve</td>\n",
       "      <td>0</td>\n",
       "      <td>206.60200</td>\n",
       "      <td>ARRKC4R1187B99A4D9</td>\n",
       "    </tr>\n",
       "    <tr>\n",
       "      <th>299987</th>\n",
       "      <td>TRZZZHL128F423C536</td>\n",
       "      <td>Crazy Love (Album Version)</td>\n",
       "      <td>Moondance</td>\n",
       "      <td>1970</td>\n",
       "      <td>156.83873</td>\n",
       "      <td>ARNAQSX1187B9ADBE4</td>\n",
       "    </tr>\n",
       "    <tr>\n",
       "      <th>299989</th>\n",
       "      <td>TRZZZIP128F92D7F80</td>\n",
       "      <td>Three Piece Swing</td>\n",
       "      <td>Pow Wow Plus</td>\n",
       "      <td>1992</td>\n",
       "      <td>180.87138</td>\n",
       "      <td>ARCDGHG1187B9B17D8</td>\n",
       "    </tr>\n",
       "    <tr>\n",
       "      <th>299994</th>\n",
       "      <td>TRZZZUM128F424188C</td>\n",
       "      <td>Cause Equal TIme</td>\n",
       "      <td>Live at Lollapalooza 2006: Broken Social Scene</td>\n",
       "      <td>0</td>\n",
       "      <td>353.77587</td>\n",
       "      <td>ARUNAM11187B98B490</td>\n",
       "    </tr>\n",
       "  </tbody>\n",
       "</table>\n",
       "<p>30350 rows × 6 columns</p>\n",
       "</div>"
      ],
      "text/plain": [
       "                  track_id                        name  \\\n",
       "17      TRAABHP128F427AEC8                 Siempre Ana   \n",
       "20      TRAABOW128F42418FB                 Hoergeraete   \n",
       "70      TRAAERS128F14A5562    The Castle  (LP Version)   \n",
       "86      TRAAFHL128F933386A                    Las 2:00   \n",
       "88      TRAAFON128F42926FB            Rosemary Recalls   \n",
       "...                    ...                         ...   \n",
       "299951  TRZZWXF128F42920D8                 I Missed Me   \n",
       "299966  TRZZYGY128F931CC54                  Sans issue   \n",
       "299987  TRZZZHL128F423C536  Crazy Love (Album Version)   \n",
       "299989  TRZZZIP128F92D7F80           Three Piece Swing   \n",
       "299994  TRZZZUM128F424188C            Cause Equal TIme   \n",
       "\n",
       "                                                 genre  year   duration  \\\n",
       "17                                              Nómada  2002  234.63138   \n",
       "20                                           Schimmern  2006  120.99873   \n",
       "70                                             Da Capo     0  180.71465   \n",
       "86                                            Ansiedad     0  181.23710   \n",
       "88                            The Man from Snowy River  1985   84.03546   \n",
       "...                                                ...   ...        ...   \n",
       "299951                                   Greatest Hits  1966  152.76363   \n",
       "299966                                      Rouge rêve     0  206.60200   \n",
       "299987                                       Moondance  1970  156.83873   \n",
       "299989                                    Pow Wow Plus  1992  180.87138   \n",
       "299994  Live at Lollapalooza 2006: Broken Social Scene     0  353.77587   \n",
       "\n",
       "                 artist_id  \n",
       "17      ARE6D0Y119B8667D9F  \n",
       "20      ARCJXB41187FB442AD  \n",
       "70      AR9F8TH1187B9B5A83  \n",
       "86      ARTEOIV11C8A417A4E  \n",
       "88      ARRC2JF1187B9B6A93  \n",
       "...                    ...  \n",
       "299951  ARZVTZN1187FB579D4  \n",
       "299966  ARRKC4R1187B99A4D9  \n",
       "299987  ARNAQSX1187B9ADBE4  \n",
       "299989  ARCDGHG1187B9B17D8  \n",
       "299994  ARUNAM11187B98B490  \n",
       "\n",
       "[30350 rows x 6 columns]"
      ]
     },
     "execution_count": 30,
     "metadata": {},
     "output_type": "execute_result"
    }
   ],
   "source": [
    "i1 = test.set_index(keys).index\n",
    "i2 = temp.set_index(keys).index\n",
    "test[~i1.isin(i2)]"
   ]
  },
  {
   "cell_type": "code",
   "execution_count": null,
   "metadata": {},
   "outputs": [],
   "source": []
  },
  {
   "cell_type": "code",
   "execution_count": 1,
   "metadata": {},
   "outputs": [
    {
     "name": "stdout",
     "output_type": "stream",
     "text": [
      "The best model was trained with rank = 4 and lambda = 4.0, and its RMSE on the test set is 0.810000.\n"
     ]
    }
   ],
   "source": [
    "print(\"The best model was trained with rank = %d and lambda = %.1f, \" % (4.2, 4) + \"and its RMSE on the test set is %f.\" % (0.81))\n"
   ]
  },
  {
   "cell_type": "code",
   "execution_count": 7,
   "metadata": {},
   "outputs": [],
   "source": [
    "# merge with genres\n",
    "genres = []\n",
    "for line in open('goodreads_book_genres_initial.json', 'r'):\n",
    "    genres.append(json.loads(line))"
   ]
  },
  {
   "cell_type": "code",
   "execution_count": 14,
   "metadata": {},
   "outputs": [
    {
     "data": {
      "text/html": [
       "<div>\n",
       "<style scoped>\n",
       "    .dataframe tbody tr th:only-of-type {\n",
       "        vertical-align: middle;\n",
       "    }\n",
       "\n",
       "    .dataframe tbody tr th {\n",
       "        vertical-align: top;\n",
       "    }\n",
       "\n",
       "    .dataframe thead th {\n",
       "        text-align: right;\n",
       "    }\n",
       "</style>\n",
       "<table border=\"1\" class=\"dataframe\">\n",
       "  <thead>\n",
       "    <tr style=\"text-align: right;\">\n",
       "      <th></th>\n",
       "      <th>book_id</th>\n",
       "      <th>genres</th>\n",
       "    </tr>\n",
       "  </thead>\n",
       "  <tbody>\n",
       "    <tr>\n",
       "      <th>0</th>\n",
       "      <td>5333265</td>\n",
       "      <td>{'history, historical fiction, biography': 1}</td>\n",
       "    </tr>\n",
       "    <tr>\n",
       "      <th>1</th>\n",
       "      <td>1333909</td>\n",
       "      <td>{'fiction': 219, 'history, historical fiction,...</td>\n",
       "    </tr>\n",
       "    <tr>\n",
       "      <th>2</th>\n",
       "      <td>7327624</td>\n",
       "      <td>{'fantasy, paranormal': 31, 'fiction': 8, 'mys...</td>\n",
       "    </tr>\n",
       "    <tr>\n",
       "      <th>3</th>\n",
       "      <td>6066819</td>\n",
       "      <td>{'fiction': 555, 'romance': 23, 'mystery, thri...</td>\n",
       "    </tr>\n",
       "    <tr>\n",
       "      <th>4</th>\n",
       "      <td>287140</td>\n",
       "      <td>{'non-fiction': 3}</td>\n",
       "    </tr>\n",
       "  </tbody>\n",
       "</table>\n",
       "</div>"
      ],
      "text/plain": [
       "   book_id                                             genres\n",
       "0  5333265      {'history, historical fiction, biography': 1}\n",
       "1  1333909  {'fiction': 219, 'history, historical fiction,...\n",
       "2  7327624  {'fantasy, paranormal': 31, 'fiction': 8, 'mys...\n",
       "3  6066819  {'fiction': 555, 'romance': 23, 'mystery, thri...\n",
       "4   287140                                 {'non-fiction': 3}"
      ]
     },
     "execution_count": 14,
     "metadata": {},
     "output_type": "execute_result"
    }
   ],
   "source": [
    "df = pd.DataFrame(genres)\n",
    "df.head()"
   ]
  },
  {
   "cell_type": "code",
   "execution_count": 44,
   "metadata": {},
   "outputs": [
    {
     "data": {
      "text/html": [
       "<div>\n",
       "<style scoped>\n",
       "    .dataframe tbody tr th:only-of-type {\n",
       "        vertical-align: middle;\n",
       "    }\n",
       "\n",
       "    .dataframe tbody tr th {\n",
       "        vertical-align: top;\n",
       "    }\n",
       "\n",
       "    .dataframe thead th {\n",
       "        text-align: right;\n",
       "    }\n",
       "</style>\n",
       "<table border=\"1\" class=\"dataframe\">\n",
       "  <thead>\n",
       "    <tr style=\"text-align: right;\">\n",
       "      <th></th>\n",
       "      <th>book_id</th>\n",
       "      <th>genres</th>\n",
       "      <th>top-genre</th>\n",
       "    </tr>\n",
       "  </thead>\n",
       "  <tbody>\n",
       "    <tr>\n",
       "      <th>0</th>\n",
       "      <td>5333265</td>\n",
       "      <td>{'history, historical fiction, biography': 1}</td>\n",
       "      <td>history, historical fiction, biography</td>\n",
       "    </tr>\n",
       "    <tr>\n",
       "      <th>1</th>\n",
       "      <td>1333909</td>\n",
       "      <td>{'fiction': 219, 'history, historical fiction,...</td>\n",
       "      <td>fiction</td>\n",
       "    </tr>\n",
       "    <tr>\n",
       "      <th>2</th>\n",
       "      <td>7327624</td>\n",
       "      <td>{'fantasy, paranormal': 31, 'fiction': 8, 'mys...</td>\n",
       "      <td>fantasy, paranormal</td>\n",
       "    </tr>\n",
       "    <tr>\n",
       "      <th>3</th>\n",
       "      <td>6066819</td>\n",
       "      <td>{'fiction': 555, 'romance': 23, 'mystery, thri...</td>\n",
       "      <td>fiction</td>\n",
       "    </tr>\n",
       "    <tr>\n",
       "      <th>4</th>\n",
       "      <td>287140</td>\n",
       "      <td>{'non-fiction': 3}</td>\n",
       "      <td>non-fiction</td>\n",
       "    </tr>\n",
       "  </tbody>\n",
       "</table>\n",
       "</div>"
      ],
      "text/plain": [
       "   book_id                                             genres  \\\n",
       "0  5333265      {'history, historical fiction, biography': 1}   \n",
       "1  1333909  {'fiction': 219, 'history, historical fiction,...   \n",
       "2  7327624  {'fantasy, paranormal': 31, 'fiction': 8, 'mys...   \n",
       "3  6066819  {'fiction': 555, 'romance': 23, 'mystery, thri...   \n",
       "4   287140                                 {'non-fiction': 3}   \n",
       "\n",
       "                                top-genre  \n",
       "0  history, historical fiction, biography  \n",
       "1                                 fiction  \n",
       "2                     fantasy, paranormal  \n",
       "3                                 fiction  \n",
       "4                             non-fiction  "
      ]
     },
     "execution_count": 44,
     "metadata": {},
     "output_type": "execute_result"
    }
   ],
   "source": [
    "genres2 = []\n",
    "for i in range(0, len(df['genres'])):\n",
    "    if len(df['genres'][i]) > 0:\n",
    "        genres2.append(list(df['genres'][i].keys())[0])\n",
    "    else: \n",
    "        genres2.append(None)\n",
    "df['top-genre'] = genres2\n",
    "\n",
    "df.head()"
   ]
  },
  {
   "cell_type": "code",
   "execution_count": 67,
   "metadata": {},
   "outputs": [],
   "source": [
    "df=df.astype({'book_id': 'int'})"
   ]
  },
  {
   "cell_type": "code",
   "execution_count": 68,
   "metadata": {},
   "outputs": [],
   "source": [
    "items = pd.read_csv('items_test.csv')\n",
    "items = items.drop(\"Unnamed: 0\", axis=1)\n",
    "items=items.rename(columns = {'item_id': 'book_id'})"
   ]
  },
  {
   "cell_type": "code",
   "execution_count": 75,
   "metadata": {},
   "outputs": [],
   "source": [
    "merged = pd.merge(items, df, on='book_id', how = 'inner')\n",
    "merged=merged.drop('genres', axis=1)"
   ]
  },
  {
   "cell_type": "code",
   "execution_count": 76,
   "metadata": {},
   "outputs": [],
   "source": [
    "import matplotlib.pyplot as plt\n",
    "import seaborn as sns\n",
    "%matplotlib inline\n",
    "from sklearn.manifold import TSNE"
   ]
  },
  {
   "cell_type": "code",
   "execution_count": 86,
   "metadata": {},
   "outputs": [],
   "source": [
    "tsne = TSNE(n_components=2, random_state=1)\n",
    "tsne_obj= tsne.fit_transform(merged.iloc[:,0:merged.shape[1]-1])"
   ]
  },
  {
   "cell_type": "code",
   "execution_count": 87,
   "metadata": {},
   "outputs": [],
   "source": [
    "tsne_df = pd.DataFrame({'X':tsne_obj[:,0],\n",
    "                        'Y':tsne_obj[:,1],\n",
    "                        'top-genre':merged.iloc[:,-1]})"
   ]
  },
  {
   "cell_type": "code",
   "execution_count": 88,
   "metadata": {},
   "outputs": [
    {
     "data": {
      "text/html": [
       "<div>\n",
       "<style scoped>\n",
       "    .dataframe tbody tr th:only-of-type {\n",
       "        vertical-align: middle;\n",
       "    }\n",
       "\n",
       "    .dataframe tbody tr th {\n",
       "        vertical-align: top;\n",
       "    }\n",
       "\n",
       "    .dataframe thead th {\n",
       "        text-align: right;\n",
       "    }\n",
       "</style>\n",
       "<table border=\"1\" class=\"dataframe\">\n",
       "  <thead>\n",
       "    <tr style=\"text-align: right;\">\n",
       "      <th></th>\n",
       "      <th>X</th>\n",
       "      <th>Y</th>\n",
       "      <th>top-genre</th>\n",
       "    </tr>\n",
       "  </thead>\n",
       "  <tbody>\n",
       "    <tr>\n",
       "      <th>0</th>\n",
       "      <td>-0.640518</td>\n",
       "      <td>46.184452</td>\n",
       "      <td>history, historical fiction, biography</td>\n",
       "    </tr>\n",
       "    <tr>\n",
       "      <th>1</th>\n",
       "      <td>6.705431</td>\n",
       "      <td>31.584175</td>\n",
       "      <td>romance</td>\n",
       "    </tr>\n",
       "    <tr>\n",
       "      <th>2</th>\n",
       "      <td>-0.921677</td>\n",
       "      <td>-40.515999</td>\n",
       "      <td>fiction</td>\n",
       "    </tr>\n",
       "    <tr>\n",
       "      <th>3</th>\n",
       "      <td>-2.435101</td>\n",
       "      <td>-46.143208</td>\n",
       "      <td>children</td>\n",
       "    </tr>\n",
       "    <tr>\n",
       "      <th>4</th>\n",
       "      <td>-54.596619</td>\n",
       "      <td>15.519591</td>\n",
       "      <td>non-fiction</td>\n",
       "    </tr>\n",
       "  </tbody>\n",
       "</table>\n",
       "</div>"
      ],
      "text/plain": [
       "           X          Y                               top-genre\n",
       "0  -0.640518  46.184452  history, historical fiction, biography\n",
       "1   6.705431  31.584175                                 romance\n",
       "2  -0.921677 -40.515999                                 fiction\n",
       "3  -2.435101 -46.143208                                children\n",
       "4 -54.596619  15.519591                             non-fiction"
      ]
     },
     "execution_count": 88,
     "metadata": {},
     "output_type": "execute_result"
    }
   ],
   "source": [
    "tsne_df.head()"
   ]
  },
  {
   "cell_type": "code",
   "execution_count": 89,
   "metadata": {},
   "outputs": [
    {
     "data": {
      "text/plain": [
       "<matplotlib.axes._subplots.AxesSubplot at 0x13ab54978>"
      ]
     },
     "execution_count": 89,
     "metadata": {},
     "output_type": "execute_result"
    },
    {
     "data": {
      "image/png": "[encoded data removed]",
      "text/plain": [
       "<Figure size 432x288 with 1 Axes>"
      ]
     },
     "metadata": {
      "needs_background": "light"
     },
     "output_type": "display_data"
    }
   ],
   "source": [
    "sns.scatterplot(x=\"X\", y=\"Y\",hue=\"top-genre\", palette=sns.color_palette(\"muted\"), legend='full', data=tsne_df)"
   ]
  },
  {
   "cell_type": "code",
   "execution_count": 90,
   "metadata": {},
   "outputs": [
    {
     "data": {
      "text/plain": [
       "<matplotlib.axes._subplots.AxesSubplot at 0x13ae21080>"
      ]
     },
     "execution_count": 90,
     "metadata": {},
     "output_type": "execute_result"
    },
    {
     "data": {
      "image/png": "[encoded data removed]",
      "text/plain": [
       "<Figure size 432x288 with 1 Axes>"
      ]
     },
     "metadata": {
      "needs_background": "light"
     },
     "output_type": "display_data"
    }
   ],
   "source": [
    "sns.scatterplot(x=\"X\", y=\"Y\", data=tsne_df)"
   ]
  },
  {
   "cell_type": "code",
   "execution_count": null,
   "metadata": {},
   "outputs": [],
   "source": []
  }
 ],
 "metadata": {
  "kernelspec": {
   "display_name": "Python 3",
   "language": "python",
   "name": "python3"
  },
  "language_info": {
   "codemirror_mode": {
    "name": "ipython",
    "version": 3
   },
   "file_extension": ".py",
   "mimetype": "text/x-python",
   "name": "python",
   "nbconvert_exporter": "python",
   "pygments_lexer": "ipython3",
   "version": "3.7.3"
  }
 },
 "nbformat": 4,
 "nbformat_minor": 2
}
